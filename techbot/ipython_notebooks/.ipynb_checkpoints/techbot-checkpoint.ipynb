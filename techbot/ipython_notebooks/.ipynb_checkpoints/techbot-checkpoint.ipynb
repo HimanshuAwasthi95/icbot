{
 "cells": [
  {
   "cell_type": "markdown",
   "metadata": {
    "slideshow": {
     "slide_type": "slide"
    }
   },
   "source": [
    "# Code to build a chatbot using Api.ai"
   ]
  },
  {
   "cell_type": "markdown",
   "metadata": {
    "slideshow": {
     "slide_type": "slide"
    }
   },
   "source": [
    "### Sending message to Api.ai"
   ]
  },
  {
   "cell_type": "code",
   "execution_count": null,
   "metadata": {
    "collapsed": false,
    "slideshow": {
     "slide_type": "subslide"
    }
   },
   "outputs": [],
   "source": [
    "import apiai\n",
    "import json\n",
    "ai = apiai.ApiAI(CLIENT_ACCESS_TOKEN)\n",
    "message = \"What are some famous python blogs\""
   ]
  },
  {
   "cell_type": "code",
   "execution_count": null,
   "metadata": {
    "collapsed": true,
    "slideshow": {
     "slide_type": "subslide"
    }
   },
   "outputs": [],
   "source": [
    "def send_message(message):\n",
    "    \"\"\"\n",
    "    Sends user text message to api.ai and gets NLU information\n",
    "    \"\"\"\n",
    "    request = ai.text_request()\n",
    "    request.session_id = SESSION_ID\n",
    "    request.query = message\n",
    "    response = request.getresponse()\n",
    "    raw_response = response.read()\n",
    "    return json.loads(raw_response.decode())"
   ]
  },
  {
   "cell_type": "markdown",
   "metadata": {
    "slideshow": {
     "slide_type": "subslide"
    }
   },
   "source": [
    "#### Response from API.ai"
   ]
  },
  {
   "cell_type": "code",
   "execution_count": null,
   "metadata": {
    "collapsed": true,
    "slideshow": {
     "slide_type": "fragment"
    }
   },
   "outputs": [],
   "source": [
    "{\n",
    "  \"id\": \"784f47ea-8d3d-4931-9d3b-f4295639942f\",\n",
    "  \"timestamp\": \"2017-10-05T06:33:18.336Z\",\n",
    "  \"lang\": \"en\",\n",
    "  \"result\": {\n",
    "    \"source\": \"agent\",\n",
    "    \"resolvedQuery\": \"what are some famous python blogs\",\n",
    "    \"action\": \"get_info\",\n",
    "    \"actionIncomplete\": false,\n",
    "    \"parameters\": {\n",
    "      \"category\": \"blogs\",\n",
    "      \"technology\": \"python\"\n",
    "    },\n",
    "    \"contexts\": [],\n",
    "    \"metadata\": {\n",
    "      \"intentId\": \"4e19e90c-42bc-4238-8c61-7d1bbad2d436\",\n",
    "      \"webhookUsed\": \"false\",\n",
    "      \"webhookForSlotFillingUsed\": \"false\",\n",
    "      \"intentName\": \"get_info\"\n",
    "    },\n",
    "    \"fulfillment\": {\n",
    "      \"speech\": \"I have curated some blogs for you... Here it goes { get_info }\",\n",
    "      \"messages\": [\n",
    "        {\n",
    "          \"type\": 0,\n",
    "          \"id\": \"bfa90686-645c-4b8e-aab6-f257cac6c873\",\n",
    "          \"speech\": \"I have curated some blogs for you... Here it goes { get_info }\"\n",
    "        }\n",
    "      ]\n",
    "    },\n",
    "    \"score\": 1\n",
    "  },\n",
    "  \"status\": {\n",
    "    \"code\": 200,\n",
    "    \"errorType\": \"success\"\n",
    "  },\n",
    "  \"sessionId\": \"77dfde5c-4a7b-476b-836d-8c42d0223934\"\n",
    "}"
   ]
  },
  {
   "cell_type": "markdown",
   "metadata": {
    "slideshow": {
     "slide_type": "slide"
    }
   },
   "source": [
    "### Get intent entities action"
   ]
  },
  {
   "cell_type": "code",
   "execution_count": null,
   "metadata": {
    "collapsed": true,
    "slideshow": {
     "slide_type": "subslide"
    }
   },
   "outputs": [],
   "source": [
    "def get_intent_action_entity_replymsg(response):\n",
    "    \"\"\"\n",
    "    given apiai response returns intent,entity,action\n",
    "    \"\"\"\n",
    "    action = None\n",
    "    entitiy = None\n",
    "    try:\n",
    "        intent = response['result']['metadata']['intentName']\n",
    "    except KeyError:\n",
    "        intent = None\n",
    "\n",
    "    try:\n",
    "        action = response[\"result\"][\"action\"]\n",
    "    except KeyError:\n",
    "        action = None\n",
    "\n",
    "    try:\n",
    "        entitiy = response[\"result\"][\"parameters\"]\n",
    "    except KeyError:\n",
    "        entity = None\n",
    "    \n",
    "    reply_message = response[\"fullfillment\"][\"speech\"]\n",
    "    return intent,entity,action"
   ]
  },
  {
   "cell_type": "markdown",
   "metadata": {
    "slideshow": {
     "slide_type": "slide"
    }
   },
   "source": [
    "#### Output"
   ]
  },
  {
   "cell_type": "code",
   "execution_count": null,
   "metadata": {
    "collapsed": true,
    "slideshow": {
     "slide_type": "fragment"
    }
   },
   "outputs": [],
   "source": [
    "entitiy = {\n",
    "      \"category\": \"blogs\",\n",
    "      \"technology\": \"python\"\n",
    "    }\n",
    "intent = \"get_info\"\n",
    "action = \"get_info\"\n",
    "reply_message = \"I have curated some blogs for you... Here it goes { get_info }\""
   ]
  },
  {
   "cell_type": "markdown",
   "metadata": {
    "slideshow": {
     "slide_type": "slide"
    }
   },
   "source": [
    "### Performing action "
   ]
  },
  {
   "cell_type": "code",
   "execution_count": null,
   "metadata": {
    "collapsed": false,
    "slideshow": {
     "slide_type": "subslide"
    }
   },
   "outputs": [],
   "source": [
    "import action_methods\n",
    "actionToCall = getattr(action_methods,action)\n",
    "action_result = actionToCall(entites)"
   ]
  },
  {
   "cell_type": "markdown",
   "metadata": {
    "slideshow": {
     "slide_type": "subslide"
    }
   },
   "source": [
    "**[\"Link to blog1\", \"Link to blog 2\", \"Link to blog 3\" ... ]**"
   ]
  },
  {
   "cell_type": "markdown",
   "metadata": {
    "slideshow": {
     "slide_type": "slide"
    }
   },
   "source": [
    "### construct reply_message and return "
   ]
  },
  {
   "cell_type": "code",
   "execution_count": null,
   "metadata": {
    "collapsed": true,
    "slideshow": {
     "slide_type": "fragment"
    }
   },
   "outputs": [],
   "source": [
    "return reply_message.replace(action, \"\\n\".join(action_result))"
   ]
  }
 ],
 "metadata": {
  "celltoolbar": "Slideshow",
  "kernelspec": {
   "display_name": "Python 3",
   "language": "python",
   "name": "python3"
  },
  "language_info": {
   "codemirror_mode": {
    "name": "ipython",
    "version": 3
   },
   "file_extension": ".py",
   "mimetype": "text/x-python",
   "name": "python",
   "nbconvert_exporter": "python",
   "pygments_lexer": "ipython3",
   "version": "3.5.2"
  }
 },
 "nbformat": 4,
 "nbformat_minor": 1
}
